{
 "cells": [
  {
   "cell_type": "code",
   "execution_count": 6,
   "id": "3b1ec418",
   "metadata": {},
   "outputs": [
    {
     "name": "stdout",
     "output_type": "stream",
     "text": [
      "{'site_id': ['CLL2'], 'temp': [16.479999542236328], 'humidity': [63.869998931884766], 'no2_t_1': [12.813750267028809], 'pm25_t_1': [4.434000015258789], 'o3_t_1': [37.12002182006836], 'wind': [2.740000009536743]}\n"
     ]
    }
   ],
   "source": [
    "from feast import FeatureStore\n",
    "store = FeatureStore(repo_path=\"/workspaces/airoute_mlops/airoute_mlops/feature_repo\")\n",
    "feats = [\n",
    "  \"aq_hourly:pm25_t_1\", \"aq_hourly:no2_t_1\", \"aq_hourly:o3_t_1\",\n",
    "  \"aq_hourly:temp\", \"aq_hourly:wind\", \"aq_hourly:humidity\",\n",
    "]\n",
    "row = store.get_online_features(\n",
    "    features=feats,\n",
    "    entity_rows=[{\"site_id\":\"CLL2\"}],  # online fetch generally doesn't need event_timestamp\n",
    ").to_dict()\n",
    "print(row)\n"
   ]
  },
  {
   "cell_type": "code",
   "execution_count": 8,
   "id": "3d34c414",
   "metadata": {},
   "outputs": [
    {
     "name": "stderr",
     "output_type": "stream",
     "text": [
      "Downloading artifacts:   0%|          | 0/6 [00:00<?, ?it/s]"
     ]
    },
    {
     "name": "stderr",
     "output_type": "stream",
     "text": [
      "Downloading artifacts: 100%|██████████| 6/6 [00:00<00:00, 147.60it/s]"
     ]
    },
    {
     "name": "stdout",
     "output_type": "stream",
     "text": [
      "[4.63533956]\n"
     ]
    },
    {
     "name": "stderr",
     "output_type": "stream",
     "text": [
      "\n"
     ]
    }
   ],
   "source": [
    "import pandas as pd\n",
    "import mlflow\n",
    "\n",
    "mlflow.set_tracking_uri(\"http://localhost:5000\")\n",
    "m = mlflow.pyfunc.load_model(\"models:/routeaq_pm25@prod\")\n",
    "\n",
    "# Make sure columns match exactly the training features order\n",
    "cols = [\"pm25_t_1\", \"no2_t_1\", \"o3_t_1\", \"temp\", \"wind\", \"humidity\"]\n",
    "\n",
    "data = pd.DataFrame(\n",
    "    [[4.4, 12.8, 37.1, 16.48, 2.74, 63.86]],\n",
    "    columns=cols\n",
    ")\n",
    "\n",
    "print(m.predict(data))\n"
   ]
  },
  {
   "cell_type": "code",
   "execution_count": null,
   "id": "31ee1901",
   "metadata": {},
   "outputs": [],
   "source": []
  }
 ],
 "metadata": {
  "kernelspec": {
   "display_name": "airoute_venv",
   "language": "python",
   "name": "python3"
  },
  "language_info": {
   "codemirror_mode": {
    "name": "ipython",
    "version": 3
   },
   "file_extension": ".py",
   "mimetype": "text/x-python",
   "name": "python",
   "nbconvert_exporter": "python",
   "pygments_lexer": "ipython3",
   "version": "3.12.1"
  }
 },
 "nbformat": 4,
 "nbformat_minor": 5
}
