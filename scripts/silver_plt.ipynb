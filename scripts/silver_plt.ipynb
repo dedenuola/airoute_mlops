{
 "cells": [
  {
   "cell_type": "code",
   "execution_count": 7,
   "id": "de859028",
   "metadata": {},
   "outputs": [
    {
     "name": "stdout",
     "output_type": "stream",
     "text": [
      "· Parsing /workspaces/airoute_mlops/airoute_mlops/data/bronze/defra/BLWD_2025.csv\n",
      "· Parsing /workspaces/airoute_mlops/airoute_mlops/data/bronze/defra/WAL4_2025.csv\n",
      "· Parsing /workspaces/airoute_mlops/airoute_mlops/data/bronze/defra/PEGR_2025.csv\n",
      "· Parsing /workspaces/airoute_mlops/airoute_mlops/data/bronze/defra/SOUT_2025.csv\n",
      "· Parsing /workspaces/airoute_mlops/airoute_mlops/data/bronze/defra/CAM_2025.csv\n",
      "· Parsing /workspaces/airoute_mlops/airoute_mlops/data/bronze/defra/ECCL_2025.csv\n",
      "· Parsing /workspaces/airoute_mlops/airoute_mlops/data/bronze/defra/KIEW_2025.csv\n",
      "· Parsing /workspaces/airoute_mlops/airoute_mlops/data/bronze/defra/GKA8_2025.csv\n",
      "· Parsing /workspaces/airoute_mlops/airoute_mlops/data/bronze/defra/WIG5_2025.csv\n",
      "· Parsing /workspaces/airoute_mlops/airoute_mlops/data/bronze/defra/CNPR_2025.csv\n"
     ]
    },
    {
     "name": "stderr",
     "output_type": "stream",
     "text": [
      "/tmp/ipykernel_2666/4211641774.py:25: FutureWarning: Support for nested sequences for 'parse_dates' in pd.read_csv is deprecated. Combine the desired columns with pd.to_datetime after parsing instead.\n",
      "  df = pd.read_csv(fp, parse_dates=[[\"date\", \"time\"]])\n",
      "/tmp/ipykernel_2666/4211641774.py:25: FutureWarning: Support for nested sequences for 'parse_dates' in pd.read_csv is deprecated. Combine the desired columns with pd.to_datetime after parsing instead.\n",
      "  df = pd.read_csv(fp, parse_dates=[[\"date\", \"time\"]])\n",
      "/tmp/ipykernel_2666/4211641774.py:25: FutureWarning: Support for nested sequences for 'parse_dates' in pd.read_csv is deprecated. Combine the desired columns with pd.to_datetime after parsing instead.\n",
      "  df = pd.read_csv(fp, parse_dates=[[\"date\", \"time\"]])\n",
      "/tmp/ipykernel_2666/4211641774.py:25: FutureWarning: Support for nested sequences for 'parse_dates' in pd.read_csv is deprecated. Combine the desired columns with pd.to_datetime after parsing instead.\n",
      "  df = pd.read_csv(fp, parse_dates=[[\"date\", \"time\"]])\n",
      "/tmp/ipykernel_2666/4211641774.py:25: FutureWarning: Support for nested sequences for 'parse_dates' in pd.read_csv is deprecated. Combine the desired columns with pd.to_datetime after parsing instead.\n",
      "  df = pd.read_csv(fp, parse_dates=[[\"date\", \"time\"]])\n",
      "/tmp/ipykernel_2666/4211641774.py:25: FutureWarning: Support for nested sequences for 'parse_dates' in pd.read_csv is deprecated. Combine the desired columns with pd.to_datetime after parsing instead.\n",
      "  df = pd.read_csv(fp, parse_dates=[[\"date\", \"time\"]])\n",
      "/tmp/ipykernel_2666/4211641774.py:25: FutureWarning: Support for nested sequences for 'parse_dates' in pd.read_csv is deprecated. Combine the desired columns with pd.to_datetime after parsing instead.\n",
      "  df = pd.read_csv(fp, parse_dates=[[\"date\", \"time\"]])\n",
      "/tmp/ipykernel_2666/4211641774.py:25: FutureWarning: Support for nested sequences for 'parse_dates' in pd.read_csv is deprecated. Combine the desired columns with pd.to_datetime after parsing instead.\n",
      "  df = pd.read_csv(fp, parse_dates=[[\"date\", \"time\"]])\n",
      "/tmp/ipykernel_2666/4211641774.py:25: FutureWarning: Support for nested sequences for 'parse_dates' in pd.read_csv is deprecated. Combine the desired columns with pd.to_datetime after parsing instead.\n",
      "  df = pd.read_csv(fp, parse_dates=[[\"date\", \"time\"]])\n",
      "/tmp/ipykernel_2666/4211641774.py:25: FutureWarning: Support for nested sequences for 'parse_dates' in pd.read_csv is deprecated. Combine the desired columns with pd.to_datetime after parsing instead.\n",
      "  df = pd.read_csv(fp, parse_dates=[[\"date\", \"time\"]])\n"
     ]
    },
    {
     "name": "stdout",
     "output_type": "stream",
     "text": [
      "· Parsing /workspaces/airoute_mlops/airoute_mlops/data/bronze/defra/SHLW_2025.csv\n",
      "· Parsing /workspaces/airoute_mlops/airoute_mlops/data/bronze/defra/EAGL_2025.csv\n",
      "· Parsing /workspaces/airoute_mlops/airoute_mlops/data/bronze/defra/STOR_2025.csv\n",
      "· Parsing /workspaces/airoute_mlops/airoute_mlops/data/bronze/defra/WEYB_2025.csv\n",
      "· Parsing /workspaces/airoute_mlops/airoute_mlops/data/bronze/defra/BEL2_2025.csv\n",
      "· Parsing /workspaces/airoute_mlops/airoute_mlops/data/bronze/defra/COPP_2025.csv\n",
      "· Parsing /workspaces/airoute_mlops/airoute_mlops/data/bronze/defra/BRAS_2025.csv\n",
      "· Parsing /workspaces/airoute_mlops/airoute_mlops/data/bronze/defra/CHP_2025.csv\n",
      "· Parsing /workspaces/airoute_mlops/airoute_mlops/data/bronze/defra/MY1_2025.csv\n",
      "· Parsing /workspaces/airoute_mlops/airoute_mlops/data/bronze/defra/HARW_2025.csv\n",
      "· Parsing /workspaces/airoute_mlops/airoute_mlops/data/bronze/defra/BMLD_2025.csv\n"
     ]
    },
    {
     "name": "stderr",
     "output_type": "stream",
     "text": [
      "/tmp/ipykernel_2666/4211641774.py:25: FutureWarning: Support for nested sequences for 'parse_dates' in pd.read_csv is deprecated. Combine the desired columns with pd.to_datetime after parsing instead.\n",
      "  df = pd.read_csv(fp, parse_dates=[[\"date\", \"time\"]])\n",
      "/tmp/ipykernel_2666/4211641774.py:25: FutureWarning: Support for nested sequences for 'parse_dates' in pd.read_csv is deprecated. Combine the desired columns with pd.to_datetime after parsing instead.\n",
      "  df = pd.read_csv(fp, parse_dates=[[\"date\", \"time\"]])\n",
      "/tmp/ipykernel_2666/4211641774.py:25: FutureWarning: Support for nested sequences for 'parse_dates' in pd.read_csv is deprecated. Combine the desired columns with pd.to_datetime after parsing instead.\n",
      "  df = pd.read_csv(fp, parse_dates=[[\"date\", \"time\"]])\n",
      "/tmp/ipykernel_2666/4211641774.py:25: FutureWarning: Support for nested sequences for 'parse_dates' in pd.read_csv is deprecated. Combine the desired columns with pd.to_datetime after parsing instead.\n",
      "  df = pd.read_csv(fp, parse_dates=[[\"date\", \"time\"]])\n",
      "/tmp/ipykernel_2666/4211641774.py:25: FutureWarning: Support for nested sequences for 'parse_dates' in pd.read_csv is deprecated. Combine the desired columns with pd.to_datetime after parsing instead.\n",
      "  df = pd.read_csv(fp, parse_dates=[[\"date\", \"time\"]])\n",
      "/tmp/ipykernel_2666/4211641774.py:25: FutureWarning: Support for nested sequences for 'parse_dates' in pd.read_csv is deprecated. Combine the desired columns with pd.to_datetime after parsing instead.\n",
      "  df = pd.read_csv(fp, parse_dates=[[\"date\", \"time\"]])\n",
      "/tmp/ipykernel_2666/4211641774.py:25: FutureWarning: Support for nested sequences for 'parse_dates' in pd.read_csv is deprecated. Combine the desired columns with pd.to_datetime after parsing instead.\n",
      "  df = pd.read_csv(fp, parse_dates=[[\"date\", \"time\"]])\n",
      "/tmp/ipykernel_2666/4211641774.py:25: FutureWarning: Support for nested sequences for 'parse_dates' in pd.read_csv is deprecated. Combine the desired columns with pd.to_datetime after parsing instead.\n",
      "  df = pd.read_csv(fp, parse_dates=[[\"date\", \"time\"]])\n",
      "/tmp/ipykernel_2666/4211641774.py:25: FutureWarning: Support for nested sequences for 'parse_dates' in pd.read_csv is deprecated. Combine the desired columns with pd.to_datetime after parsing instead.\n",
      "  df = pd.read_csv(fp, parse_dates=[[\"date\", \"time\"]])\n",
      "/tmp/ipykernel_2666/4211641774.py:25: FutureWarning: Support for nested sequences for 'parse_dates' in pd.read_csv is deprecated. Combine the desired columns with pd.to_datetime after parsing instead.\n",
      "  df = pd.read_csv(fp, parse_dates=[[\"date\", \"time\"]])\n",
      "/tmp/ipykernel_2666/4211641774.py:25: FutureWarning: Support for nested sequences for 'parse_dates' in pd.read_csv is deprecated. Combine the desired columns with pd.to_datetime after parsing instead.\n",
      "  df = pd.read_csv(fp, parse_dates=[[\"date\", \"time\"]])\n"
     ]
    },
    {
     "name": "stdout",
     "output_type": "stream",
     "text": [
      "· Parsing /workspaces/airoute_mlops/airoute_mlops/data/bronze/defra/ESK_2025.csv\n",
      "· Parsing /workspaces/airoute_mlops/airoute_mlops/data/bronze/defra/COBR_2025.csv\n",
      "· Parsing /workspaces/airoute_mlops/airoute_mlops/data/bronze/defra/PLYM_2025.csv\n",
      "· Parsing /workspaces/airoute_mlops/airoute_mlops/data/bronze/defra/NWBV_2025.csv\n",
      "· Parsing /workspaces/airoute_mlops/airoute_mlops/data/bronze/defra/DESB_2025.csv\n",
      "· Parsing /workspaces/airoute_mlops/airoute_mlops/data/bronze/defra/TOFT_2025.csv\n",
      "· Parsing /workspaces/airoute_mlops/airoute_mlops/data/bronze/defra/NTN4_2025.csv\n"
     ]
    },
    {
     "name": "stderr",
     "output_type": "stream",
     "text": [
      "/tmp/ipykernel_2666/4211641774.py:25: FutureWarning: Support for nested sequences for 'parse_dates' in pd.read_csv is deprecated. Combine the desired columns with pd.to_datetime after parsing instead.\n",
      "  df = pd.read_csv(fp, parse_dates=[[\"date\", \"time\"]])\n",
      "/tmp/ipykernel_2666/4211641774.py:25: FutureWarning: Support for nested sequences for 'parse_dates' in pd.read_csv is deprecated. Combine the desired columns with pd.to_datetime after parsing instead.\n",
      "  df = pd.read_csv(fp, parse_dates=[[\"date\", \"time\"]])\n",
      "/tmp/ipykernel_2666/4211641774.py:25: FutureWarning: Support for nested sequences for 'parse_dates' in pd.read_csv is deprecated. Combine the desired columns with pd.to_datetime after parsing instead.\n",
      "  df = pd.read_csv(fp, parse_dates=[[\"date\", \"time\"]])\n",
      "/tmp/ipykernel_2666/4211641774.py:25: FutureWarning: Support for nested sequences for 'parse_dates' in pd.read_csv is deprecated. Combine the desired columns with pd.to_datetime after parsing instead.\n",
      "  df = pd.read_csv(fp, parse_dates=[[\"date\", \"time\"]])\n",
      "/tmp/ipykernel_2666/4211641774.py:25: FutureWarning: Support for nested sequences for 'parse_dates' in pd.read_csv is deprecated. Combine the desired columns with pd.to_datetime after parsing instead.\n",
      "  df = pd.read_csv(fp, parse_dates=[[\"date\", \"time\"]])\n",
      "/tmp/ipykernel_2666/4211641774.py:25: FutureWarning: Support for nested sequences for 'parse_dates' in pd.read_csv is deprecated. Combine the desired columns with pd.to_datetime after parsing instead.\n",
      "  df = pd.read_csv(fp, parse_dates=[[\"date\", \"time\"]])\n",
      "/tmp/ipykernel_2666/4211641774.py:25: FutureWarning: Support for nested sequences for 'parse_dates' in pd.read_csv is deprecated. Combine the desired columns with pd.to_datetime after parsing instead.\n",
      "  df = pd.read_csv(fp, parse_dates=[[\"date\", \"time\"]])\n"
     ]
    },
    {
     "name": "stdout",
     "output_type": "stream",
     "text": [
      "· Parsing /workspaces/airoute_mlops/airoute_mlops/data/bronze/defra/GLA4_2025.csv\n",
      "· Parsing /workspaces/airoute_mlops/airoute_mlops/data/bronze/defra/SLOW_2025.csv\n",
      "· Parsing /workspaces/airoute_mlops/airoute_mlops/data/bronze/defra/CHS7_2025.csv\n",
      "· Parsing /workspaces/airoute_mlops/airoute_mlops/data/bronze/defra/KC1_2025.csv\n",
      "· Parsing /workspaces/airoute_mlops/airoute_mlops/data/bronze/defra/CARD_2025.csv\n"
     ]
    },
    {
     "name": "stderr",
     "output_type": "stream",
     "text": [
      "/tmp/ipykernel_2666/4211641774.py:25: FutureWarning: Support for nested sequences for 'parse_dates' in pd.read_csv is deprecated. Combine the desired columns with pd.to_datetime after parsing instead.\n",
      "  df = pd.read_csv(fp, parse_dates=[[\"date\", \"time\"]])\n",
      "/tmp/ipykernel_2666/4211641774.py:25: FutureWarning: Support for nested sequences for 'parse_dates' in pd.read_csv is deprecated. Combine the desired columns with pd.to_datetime after parsing instead.\n",
      "  df = pd.read_csv(fp, parse_dates=[[\"date\", \"time\"]])\n",
      "/tmp/ipykernel_2666/4211641774.py:25: FutureWarning: Support for nested sequences for 'parse_dates' in pd.read_csv is deprecated. Combine the desired columns with pd.to_datetime after parsing instead.\n",
      "  df = pd.read_csv(fp, parse_dates=[[\"date\", \"time\"]])\n",
      "/tmp/ipykernel_2666/4211641774.py:25: FutureWarning: Support for nested sequences for 'parse_dates' in pd.read_csv is deprecated. Combine the desired columns with pd.to_datetime after parsing instead.\n",
      "  df = pd.read_csv(fp, parse_dates=[[\"date\", \"time\"]])\n",
      "/tmp/ipykernel_2666/4211641774.py:25: FutureWarning: Support for nested sequences for 'parse_dates' in pd.read_csv is deprecated. Combine the desired columns with pd.to_datetime after parsing instead.\n",
      "  df = pd.read_csv(fp, parse_dates=[[\"date\", \"time\"]])\n"
     ]
    },
    {
     "name": "stdout",
     "output_type": "stream",
     "text": [
      "· Parsing /workspaces/airoute_mlops/airoute_mlops/data/bronze/defra/ABD9_2025.csv\n",
      "· Parsing /workspaces/airoute_mlops/airoute_mlops/data/bronze/defra/MALA_2025.csv\n",
      "· Parsing /workspaces/airoute_mlops/airoute_mlops/data/bronze/defra/NPT3_2025.csv\n",
      "· Parsing /workspaces/airoute_mlops/airoute_mlops/data/bronze/defra/CAEB_2025.csv\n",
      "· Parsing /workspaces/airoute_mlops/airoute_mlops/data/bronze/defra/DYAG_2025.csv\n",
      "· Parsing /workspaces/airoute_mlops/airoute_mlops/data/bronze/defra/YK10_2025.csv\n"
     ]
    },
    {
     "name": "stderr",
     "output_type": "stream",
     "text": [
      "/tmp/ipykernel_2666/4211641774.py:25: FutureWarning: Support for nested sequences for 'parse_dates' in pd.read_csv is deprecated. Combine the desired columns with pd.to_datetime after parsing instead.\n",
      "  df = pd.read_csv(fp, parse_dates=[[\"date\", \"time\"]])\n",
      "/tmp/ipykernel_2666/4211641774.py:25: FutureWarning: Support for nested sequences for 'parse_dates' in pd.read_csv is deprecated. Combine the desired columns with pd.to_datetime after parsing instead.\n",
      "  df = pd.read_csv(fp, parse_dates=[[\"date\", \"time\"]])\n",
      "/tmp/ipykernel_2666/4211641774.py:25: FutureWarning: Support for nested sequences for 'parse_dates' in pd.read_csv is deprecated. Combine the desired columns with pd.to_datetime after parsing instead.\n",
      "  df = pd.read_csv(fp, parse_dates=[[\"date\", \"time\"]])\n",
      "/tmp/ipykernel_2666/4211641774.py:25: FutureWarning: Support for nested sequences for 'parse_dates' in pd.read_csv is deprecated. Combine the desired columns with pd.to_datetime after parsing instead.\n",
      "  df = pd.read_csv(fp, parse_dates=[[\"date\", \"time\"]])\n",
      "/tmp/ipykernel_2666/4211641774.py:25: FutureWarning: Support for nested sequences for 'parse_dates' in pd.read_csv is deprecated. Combine the desired columns with pd.to_datetime after parsing instead.\n",
      "  df = pd.read_csv(fp, parse_dates=[[\"date\", \"time\"]])\n",
      "/tmp/ipykernel_2666/4211641774.py:25: FutureWarning: Support for nested sequences for 'parse_dates' in pd.read_csv is deprecated. Combine the desired columns with pd.to_datetime after parsing instead.\n",
      "  df = pd.read_csv(fp, parse_dates=[[\"date\", \"time\"]])\n"
     ]
    },
    {
     "name": "stdout",
     "output_type": "stream",
     "text": [
      "· Parsing /workspaces/airoute_mlops/airoute_mlops/data/bronze/defra/HG1_2025.csv\n",
      "· Parsing /workspaces/airoute_mlops/airoute_mlops/data/bronze/defra/MACK_2025.csv\n",
      "· Parsing /workspaces/airoute_mlops/airoute_mlops/data/bronze/defra/SWHO_2025.csv\n",
      "· Parsing /workspaces/airoute_mlops/airoute_mlops/data/bronze/defra/ED3_2025.csv\n",
      "· Parsing /workspaces/airoute_mlops/airoute_mlops/data/bronze/defra/BIRR_2025.csv\n",
      "· Parsing /workspaces/airoute_mlops/airoute_mlops/data/bronze/defra/WFEN_2025.csv\n",
      "· Parsing /workspaces/airoute_mlops/airoute_mlops/data/bronze/defra/DCST_2025.csv\n",
      "· Parsing /workspaces/airoute_mlops/airoute_mlops/data/bronze/defra/HULR_2025.csv\n",
      "· Parsing /workspaces/airoute_mlops/airoute_mlops/data/bronze/defra/DERR_2025.csv\n"
     ]
    },
    {
     "name": "stderr",
     "output_type": "stream",
     "text": [
      "/tmp/ipykernel_2666/4211641774.py:25: FutureWarning: Support for nested sequences for 'parse_dates' in pd.read_csv is deprecated. Combine the desired columns with pd.to_datetime after parsing instead.\n",
      "  df = pd.read_csv(fp, parse_dates=[[\"date\", \"time\"]])\n",
      "/tmp/ipykernel_2666/4211641774.py:25: FutureWarning: Support for nested sequences for 'parse_dates' in pd.read_csv is deprecated. Combine the desired columns with pd.to_datetime after parsing instead.\n",
      "  df = pd.read_csv(fp, parse_dates=[[\"date\", \"time\"]])\n",
      "/tmp/ipykernel_2666/4211641774.py:25: FutureWarning: Support for nested sequences for 'parse_dates' in pd.read_csv is deprecated. Combine the desired columns with pd.to_datetime after parsing instead.\n",
      "  df = pd.read_csv(fp, parse_dates=[[\"date\", \"time\"]])\n",
      "/tmp/ipykernel_2666/4211641774.py:25: FutureWarning: Support for nested sequences for 'parse_dates' in pd.read_csv is deprecated. Combine the desired columns with pd.to_datetime after parsing instead.\n",
      "  df = pd.read_csv(fp, parse_dates=[[\"date\", \"time\"]])\n",
      "/tmp/ipykernel_2666/4211641774.py:25: FutureWarning: Support for nested sequences for 'parse_dates' in pd.read_csv is deprecated. Combine the desired columns with pd.to_datetime after parsing instead.\n",
      "  df = pd.read_csv(fp, parse_dates=[[\"date\", \"time\"]])\n",
      "/tmp/ipykernel_2666/4211641774.py:25: FutureWarning: Support for nested sequences for 'parse_dates' in pd.read_csv is deprecated. Combine the desired columns with pd.to_datetime after parsing instead.\n",
      "  df = pd.read_csv(fp, parse_dates=[[\"date\", \"time\"]])\n",
      "/tmp/ipykernel_2666/4211641774.py:25: FutureWarning: Support for nested sequences for 'parse_dates' in pd.read_csv is deprecated. Combine the desired columns with pd.to_datetime after parsing instead.\n",
      "  df = pd.read_csv(fp, parse_dates=[[\"date\", \"time\"]])\n",
      "/tmp/ipykernel_2666/4211641774.py:25: FutureWarning: Support for nested sequences for 'parse_dates' in pd.read_csv is deprecated. Combine the desired columns with pd.to_datetime after parsing instead.\n",
      "  df = pd.read_csv(fp, parse_dates=[[\"date\", \"time\"]])\n",
      "/tmp/ipykernel_2666/4211641774.py:25: FutureWarning: Support for nested sequences for 'parse_dates' in pd.read_csv is deprecated. Combine the desired columns with pd.to_datetime after parsing instead.\n",
      "  df = pd.read_csv(fp, parse_dates=[[\"date\", \"time\"]])\n"
     ]
    },
    {
     "name": "stdout",
     "output_type": "stream",
     "text": [
      "· Parsing /workspaces/airoute_mlops/airoute_mlops/data/bronze/defra/DUMB_2025.csv\n",
      "· Parsing /workspaces/airoute_mlops/airoute_mlops/data/bronze/defra/LEAM_2025.csv\n",
      "· Parsing /workspaces/airoute_mlops/airoute_mlops/data/bronze/defra/NOTK_2025.csv\n",
      "· Parsing /workspaces/airoute_mlops/airoute_mlops/data/bronze/defra/SDY_2025.csv\n",
      "· Parsing /workspaces/airoute_mlops/airoute_mlops/data/bronze/defra/CW_2025.csv\n",
      "· Parsing /workspaces/airoute_mlops/airoute_mlops/data/bronze/defra/LEED_2025.csv\n",
      "· Parsing /workspaces/airoute_mlops/airoute_mlops/data/bronze/defra/MAID_2025.csv\n",
      "· Parsing /workspaces/airoute_mlops/airoute_mlops/data/bronze/defra/CHBR_2025.csv\n",
      "· Parsing /workspaces/airoute_mlops/airoute_mlops/data/bronze/defra/MIMW_2025.csv\n"
     ]
    },
    {
     "name": "stderr",
     "output_type": "stream",
     "text": [
      "/tmp/ipykernel_2666/4211641774.py:25: FutureWarning: Support for nested sequences for 'parse_dates' in pd.read_csv is deprecated. Combine the desired columns with pd.to_datetime after parsing instead.\n",
      "  df = pd.read_csv(fp, parse_dates=[[\"date\", \"time\"]])\n",
      "/tmp/ipykernel_2666/4211641774.py:25: FutureWarning: Support for nested sequences for 'parse_dates' in pd.read_csv is deprecated. Combine the desired columns with pd.to_datetime after parsing instead.\n",
      "  df = pd.read_csv(fp, parse_dates=[[\"date\", \"time\"]])\n",
      "/tmp/ipykernel_2666/4211641774.py:25: FutureWarning: Support for nested sequences for 'parse_dates' in pd.read_csv is deprecated. Combine the desired columns with pd.to_datetime after parsing instead.\n",
      "  df = pd.read_csv(fp, parse_dates=[[\"date\", \"time\"]])\n",
      "/tmp/ipykernel_2666/4211641774.py:25: FutureWarning: Support for nested sequences for 'parse_dates' in pd.read_csv is deprecated. Combine the desired columns with pd.to_datetime after parsing instead.\n",
      "  df = pd.read_csv(fp, parse_dates=[[\"date\", \"time\"]])\n",
      "/tmp/ipykernel_2666/4211641774.py:25: FutureWarning: Support for nested sequences for 'parse_dates' in pd.read_csv is deprecated. Combine the desired columns with pd.to_datetime after parsing instead.\n",
      "  df = pd.read_csv(fp, parse_dates=[[\"date\", \"time\"]])\n",
      "/tmp/ipykernel_2666/4211641774.py:25: FutureWarning: Support for nested sequences for 'parse_dates' in pd.read_csv is deprecated. Combine the desired columns with pd.to_datetime after parsing instead.\n",
      "  df = pd.read_csv(fp, parse_dates=[[\"date\", \"time\"]])\n",
      "/tmp/ipykernel_2666/4211641774.py:25: FutureWarning: Support for nested sequences for 'parse_dates' in pd.read_csv is deprecated. Combine the desired columns with pd.to_datetime after parsing instead.\n",
      "  df = pd.read_csv(fp, parse_dates=[[\"date\", \"time\"]])\n",
      "/tmp/ipykernel_2666/4211641774.py:25: FutureWarning: Support for nested sequences for 'parse_dates' in pd.read_csv is deprecated. Combine the desired columns with pd.to_datetime after parsing instead.\n",
      "  df = pd.read_csv(fp, parse_dates=[[\"date\", \"time\"]])\n",
      "/tmp/ipykernel_2666/4211641774.py:25: FutureWarning: Support for nested sequences for 'parse_dates' in pd.read_csv is deprecated. Combine the desired columns with pd.to_datetime after parsing instead.\n",
      "  df = pd.read_csv(fp, parse_dates=[[\"date\", \"time\"]])\n"
     ]
    },
    {
     "name": "stdout",
     "output_type": "stream",
     "text": [
      "· Parsing /workspaces/airoute_mlops/airoute_mlops/data/bronze/defra/SA33_2025.csv\n",
      "· Parsing /workspaces/airoute_mlops/airoute_mlops/data/bronze/defra/HM_2025.csv\n",
      "· Parsing /workspaces/airoute_mlops/airoute_mlops/data/bronze/defra/TAMM_2025.csv\n",
      "· Parsing /workspaces/airoute_mlops/airoute_mlops/data/bronze/defra/WTHG_2025.csv\n",
      "· Parsing /workspaces/airoute_mlops/airoute_mlops/data/bronze/defra/PEGE_2025.csv\n",
      "· Parsing /workspaces/airoute_mlops/airoute_mlops/data/bronze/defra/PLYR_2025.csv\n",
      "· Parsing /workspaces/airoute_mlops/airoute_mlops/data/bronze/defra/OX_2025.csv\n",
      "· Parsing /workspaces/airoute_mlops/airoute_mlops/data/bronze/defra/HG4_2025.csv\n",
      "· Parsing /workspaces/airoute_mlops/airoute_mlops/data/bronze/defra/TRAN_2025.csv\n",
      "· Parsing /workspaces/airoute_mlops/airoute_mlops/data/bronze/defra/SK5_2025.csv\n"
     ]
    },
    {
     "name": "stderr",
     "output_type": "stream",
     "text": [
      "/tmp/ipykernel_2666/4211641774.py:25: FutureWarning: Support for nested sequences for 'parse_dates' in pd.read_csv is deprecated. Combine the desired columns with pd.to_datetime after parsing instead.\n",
      "  df = pd.read_csv(fp, parse_dates=[[\"date\", \"time\"]])\n",
      "/tmp/ipykernel_2666/4211641774.py:25: FutureWarning: Support for nested sequences for 'parse_dates' in pd.read_csv is deprecated. Combine the desired columns with pd.to_datetime after parsing instead.\n",
      "  df = pd.read_csv(fp, parse_dates=[[\"date\", \"time\"]])\n",
      "/tmp/ipykernel_2666/4211641774.py:25: FutureWarning: Support for nested sequences for 'parse_dates' in pd.read_csv is deprecated. Combine the desired columns with pd.to_datetime after parsing instead.\n",
      "  df = pd.read_csv(fp, parse_dates=[[\"date\", \"time\"]])\n",
      "/tmp/ipykernel_2666/4211641774.py:25: FutureWarning: Support for nested sequences for 'parse_dates' in pd.read_csv is deprecated. Combine the desired columns with pd.to_datetime after parsing instead.\n",
      "  df = pd.read_csv(fp, parse_dates=[[\"date\", \"time\"]])\n",
      "/tmp/ipykernel_2666/4211641774.py:25: FutureWarning: Support for nested sequences for 'parse_dates' in pd.read_csv is deprecated. Combine the desired columns with pd.to_datetime after parsing instead.\n",
      "  df = pd.read_csv(fp, parse_dates=[[\"date\", \"time\"]])\n",
      "/tmp/ipykernel_2666/4211641774.py:25: FutureWarning: Support for nested sequences for 'parse_dates' in pd.read_csv is deprecated. Combine the desired columns with pd.to_datetime after parsing instead.\n",
      "  df = pd.read_csv(fp, parse_dates=[[\"date\", \"time\"]])\n",
      "/tmp/ipykernel_2666/4211641774.py:25: FutureWarning: Support for nested sequences for 'parse_dates' in pd.read_csv is deprecated. Combine the desired columns with pd.to_datetime after parsing instead.\n",
      "  df = pd.read_csv(fp, parse_dates=[[\"date\", \"time\"]])\n",
      "/tmp/ipykernel_2666/4211641774.py:25: FutureWarning: Support for nested sequences for 'parse_dates' in pd.read_csv is deprecated. Combine the desired columns with pd.to_datetime after parsing instead.\n",
      "  df = pd.read_csv(fp, parse_dates=[[\"date\", \"time\"]])\n",
      "/tmp/ipykernel_2666/4211641774.py:25: FutureWarning: Support for nested sequences for 'parse_dates' in pd.read_csv is deprecated. Combine the desired columns with pd.to_datetime after parsing instead.\n",
      "  df = pd.read_csv(fp, parse_dates=[[\"date\", \"time\"]])\n",
      "/tmp/ipykernel_2666/4211641774.py:25: FutureWarning: Support for nested sequences for 'parse_dates' in pd.read_csv is deprecated. Combine the desired columns with pd.to_datetime after parsing instead.\n",
      "  df = pd.read_csv(fp, parse_dates=[[\"date\", \"time\"]])\n"
     ]
    },
    {
     "name": "stdout",
     "output_type": "stream",
     "text": [
      "· Parsing /workspaces/airoute_mlops/airoute_mlops/data/bronze/defra/BBRD_2025.csv\n",
      "· Parsing /workspaces/airoute_mlops/airoute_mlops/data/bronze/defra/MKCC_2025.csv\n",
      "· Parsing /workspaces/airoute_mlops/airoute_mlops/data/bronze/defra/STOK_2025.csv\n",
      "· Parsing /workspaces/airoute_mlops/airoute_mlops/data/bronze/defra/PMTH_2025.csv\n",
      "· Parsing /workspaces/airoute_mlops/airoute_mlops/data/bronze/defra/POAR_2025.csv\n",
      "· Parsing /workspaces/airoute_mlops/airoute_mlops/data/bronze/defra/CHLG_2025.csv\n",
      "· Parsing /workspaces/airoute_mlops/airoute_mlops/data/bronze/defra/CARM_2025.csv\n",
      "· Parsing /workspaces/airoute_mlops/airoute_mlops/data/bronze/defra/TDHD_2025.csv\n",
      "· Parsing /workspaces/airoute_mlops/airoute_mlops/data/bronze/defra/HUL2_2025.csv\n"
     ]
    },
    {
     "name": "stderr",
     "output_type": "stream",
     "text": [
      "/tmp/ipykernel_2666/4211641774.py:25: FutureWarning: Support for nested sequences for 'parse_dates' in pd.read_csv is deprecated. Combine the desired columns with pd.to_datetime after parsing instead.\n",
      "  df = pd.read_csv(fp, parse_dates=[[\"date\", \"time\"]])\n",
      "/tmp/ipykernel_2666/4211641774.py:25: FutureWarning: Support for nested sequences for 'parse_dates' in pd.read_csv is deprecated. Combine the desired columns with pd.to_datetime after parsing instead.\n",
      "  df = pd.read_csv(fp, parse_dates=[[\"date\", \"time\"]])\n",
      "/tmp/ipykernel_2666/4211641774.py:25: FutureWarning: Support for nested sequences for 'parse_dates' in pd.read_csv is deprecated. Combine the desired columns with pd.to_datetime after parsing instead.\n",
      "  df = pd.read_csv(fp, parse_dates=[[\"date\", \"time\"]])\n",
      "/tmp/ipykernel_2666/4211641774.py:25: FutureWarning: Support for nested sequences for 'parse_dates' in pd.read_csv is deprecated. Combine the desired columns with pd.to_datetime after parsing instead.\n",
      "  df = pd.read_csv(fp, parse_dates=[[\"date\", \"time\"]])\n",
      "/tmp/ipykernel_2666/4211641774.py:25: FutureWarning: Support for nested sequences for 'parse_dates' in pd.read_csv is deprecated. Combine the desired columns with pd.to_datetime after parsing instead.\n",
      "  df = pd.read_csv(fp, parse_dates=[[\"date\", \"time\"]])\n",
      "/tmp/ipykernel_2666/4211641774.py:25: FutureWarning: Support for nested sequences for 'parse_dates' in pd.read_csv is deprecated. Combine the desired columns with pd.to_datetime after parsing instead.\n",
      "  df = pd.read_csv(fp, parse_dates=[[\"date\", \"time\"]])\n",
      "/tmp/ipykernel_2666/4211641774.py:25: FutureWarning: Support for nested sequences for 'parse_dates' in pd.read_csv is deprecated. Combine the desired columns with pd.to_datetime after parsing instead.\n",
      "  df = pd.read_csv(fp, parse_dates=[[\"date\", \"time\"]])\n",
      "/tmp/ipykernel_2666/4211641774.py:25: FutureWarning: Support for nested sequences for 'parse_dates' in pd.read_csv is deprecated. Combine the desired columns with pd.to_datetime after parsing instead.\n",
      "  df = pd.read_csv(fp, parse_dates=[[\"date\", \"time\"]])\n",
      "/tmp/ipykernel_2666/4211641774.py:25: FutureWarning: Support for nested sequences for 'parse_dates' in pd.read_csv is deprecated. Combine the desired columns with pd.to_datetime after parsing instead.\n",
      "  df = pd.read_csv(fp, parse_dates=[[\"date\", \"time\"]])\n"
     ]
    },
    {
     "name": "stdout",
     "output_type": "stream",
     "text": [
      "· Parsing /workspaces/airoute_mlops/airoute_mlops/data/bronze/defra/LECU_2025.csv\n",
      "· Parsing /workspaces/airoute_mlops/airoute_mlops/data/bronze/defra/LEAR_2025.csv\n",
      "· Parsing /workspaces/airoute_mlops/airoute_mlops/data/bronze/defra/BLAR_2025.csv\n",
      "· Parsing /workspaces/airoute_mlops/airoute_mlops/data/bronze/defra/LOTA_2025.csv\n",
      "· Parsing /workspaces/airoute_mlops/airoute_mlops/data/bronze/defra/HOPE_2025.csv\n",
      "· Parsing /workspaces/airoute_mlops/airoute_mlops/data/bronze/defra/ROCH_2025.csv\n",
      "· Parsing /workspaces/airoute_mlops/airoute_mlops/data/bronze/defra/COAL_2025.csv\n",
      "· Parsing /workspaces/airoute_mlops/airoute_mlops/data/bronze/defra/TALL_2025.csv\n",
      "· Parsing /workspaces/airoute_mlops/airoute_mlops/data/bronze/defra/BLC2_2025.csv\n",
      "· Parsing /workspaces/airoute_mlops/airoute_mlops/data/bronze/defra/THUR_2025.csv\n",
      "· Parsing /workspaces/airoute_mlops/airoute_mlops/data/bronze/defra/BDMP_2025.csv\n"
     ]
    },
    {
     "name": "stderr",
     "output_type": "stream",
     "text": [
      "/tmp/ipykernel_2666/4211641774.py:25: FutureWarning: Support for nested sequences for 'parse_dates' in pd.read_csv is deprecated. Combine the desired columns with pd.to_datetime after parsing instead.\n",
      "  df = pd.read_csv(fp, parse_dates=[[\"date\", \"time\"]])\n",
      "/tmp/ipykernel_2666/4211641774.py:25: FutureWarning: Support for nested sequences for 'parse_dates' in pd.read_csv is deprecated. Combine the desired columns with pd.to_datetime after parsing instead.\n",
      "  df = pd.read_csv(fp, parse_dates=[[\"date\", \"time\"]])\n",
      "/tmp/ipykernel_2666/4211641774.py:25: FutureWarning: Support for nested sequences for 'parse_dates' in pd.read_csv is deprecated. Combine the desired columns with pd.to_datetime after parsing instead.\n",
      "  df = pd.read_csv(fp, parse_dates=[[\"date\", \"time\"]])\n",
      "/tmp/ipykernel_2666/4211641774.py:25: FutureWarning: Support for nested sequences for 'parse_dates' in pd.read_csv is deprecated. Combine the desired columns with pd.to_datetime after parsing instead.\n",
      "  df = pd.read_csv(fp, parse_dates=[[\"date\", \"time\"]])\n",
      "/tmp/ipykernel_2666/4211641774.py:25: FutureWarning: Support for nested sequences for 'parse_dates' in pd.read_csv is deprecated. Combine the desired columns with pd.to_datetime after parsing instead.\n",
      "  df = pd.read_csv(fp, parse_dates=[[\"date\", \"time\"]])\n",
      "/tmp/ipykernel_2666/4211641774.py:25: FutureWarning: Support for nested sequences for 'parse_dates' in pd.read_csv is deprecated. Combine the desired columns with pd.to_datetime after parsing instead.\n",
      "  df = pd.read_csv(fp, parse_dates=[[\"date\", \"time\"]])\n",
      "/tmp/ipykernel_2666/4211641774.py:25: FutureWarning: Support for nested sequences for 'parse_dates' in pd.read_csv is deprecated. Combine the desired columns with pd.to_datetime after parsing instead.\n",
      "  df = pd.read_csv(fp, parse_dates=[[\"date\", \"time\"]])\n",
      "/tmp/ipykernel_2666/4211641774.py:25: FutureWarning: Support for nested sequences for 'parse_dates' in pd.read_csv is deprecated. Combine the desired columns with pd.to_datetime after parsing instead.\n",
      "  df = pd.read_csv(fp, parse_dates=[[\"date\", \"time\"]])\n",
      "/tmp/ipykernel_2666/4211641774.py:25: FutureWarning: Support for nested sequences for 'parse_dates' in pd.read_csv is deprecated. Combine the desired columns with pd.to_datetime after parsing instead.\n",
      "  df = pd.read_csv(fp, parse_dates=[[\"date\", \"time\"]])\n",
      "/tmp/ipykernel_2666/4211641774.py:25: FutureWarning: Support for nested sequences for 'parse_dates' in pd.read_csv is deprecated. Combine the desired columns with pd.to_datetime after parsing instead.\n",
      "  df = pd.read_csv(fp, parse_dates=[[\"date\", \"time\"]])\n",
      "/tmp/ipykernel_2666/4211641774.py:25: FutureWarning: Support for nested sequences for 'parse_dates' in pd.read_csv is deprecated. Combine the desired columns with pd.to_datetime after parsing instead.\n",
      "  df = pd.read_csv(fp, parse_dates=[[\"date\", \"time\"]])\n"
     ]
    },
    {
     "name": "stdout",
     "output_type": "stream",
     "text": [
      "· Parsing /workspaces/airoute_mlops/airoute_mlops/data/bronze/defra/EX_2025.csv\n",
      "· Parsing /workspaces/airoute_mlops/airoute_mlops/data/bronze/defra/OX8_2025.csv\n",
      "· Parsing /workspaces/airoute_mlops/airoute_mlops/data/bronze/defra/IMGM_2025.csv\n",
      "· Parsing /workspaces/airoute_mlops/airoute_mlops/data/bronze/defra/AH_2025.csv\n",
      "· Parsing /workspaces/airoute_mlops/airoute_mlops/data/bronze/defra/GGWR_2025.csv\n",
      "· Parsing /workspaces/airoute_mlops/airoute_mlops/data/bronze/defra/ABD7_2025.csv\n",
      "· Parsing /workspaces/airoute_mlops/airoute_mlops/data/bronze/defra/BORN_2025.csv\n",
      "· Parsing /workspaces/airoute_mlops/airoute_mlops/data/bronze/defra/HSAW_2025.csv\n",
      "· Parsing /workspaces/airoute_mlops/airoute_mlops/data/bronze/defra/NEWC_2025.csv\n",
      "· Parsing /workspaces/airoute_mlops/airoute_mlops/data/bronze/defra/SWA1_2025.csv\n"
     ]
    },
    {
     "name": "stderr",
     "output_type": "stream",
     "text": [
      "/tmp/ipykernel_2666/4211641774.py:25: FutureWarning: Support for nested sequences for 'parse_dates' in pd.read_csv is deprecated. Combine the desired columns with pd.to_datetime after parsing instead.\n",
      "  df = pd.read_csv(fp, parse_dates=[[\"date\", \"time\"]])\n",
      "/tmp/ipykernel_2666/4211641774.py:25: FutureWarning: Support for nested sequences for 'parse_dates' in pd.read_csv is deprecated. Combine the desired columns with pd.to_datetime after parsing instead.\n",
      "  df = pd.read_csv(fp, parse_dates=[[\"date\", \"time\"]])\n",
      "/tmp/ipykernel_2666/4211641774.py:25: FutureWarning: Support for nested sequences for 'parse_dates' in pd.read_csv is deprecated. Combine the desired columns with pd.to_datetime after parsing instead.\n",
      "  df = pd.read_csv(fp, parse_dates=[[\"date\", \"time\"]])\n",
      "/tmp/ipykernel_2666/4211641774.py:25: FutureWarning: Support for nested sequences for 'parse_dates' in pd.read_csv is deprecated. Combine the desired columns with pd.to_datetime after parsing instead.\n",
      "  df = pd.read_csv(fp, parse_dates=[[\"date\", \"time\"]])\n",
      "/tmp/ipykernel_2666/4211641774.py:25: FutureWarning: Support for nested sequences for 'parse_dates' in pd.read_csv is deprecated. Combine the desired columns with pd.to_datetime after parsing instead.\n",
      "  df = pd.read_csv(fp, parse_dates=[[\"date\", \"time\"]])\n",
      "/tmp/ipykernel_2666/4211641774.py:25: FutureWarning: Support for nested sequences for 'parse_dates' in pd.read_csv is deprecated. Combine the desired columns with pd.to_datetime after parsing instead.\n",
      "  df = pd.read_csv(fp, parse_dates=[[\"date\", \"time\"]])\n",
      "/tmp/ipykernel_2666/4211641774.py:25: FutureWarning: Support for nested sequences for 'parse_dates' in pd.read_csv is deprecated. Combine the desired columns with pd.to_datetime after parsing instead.\n",
      "  df = pd.read_csv(fp, parse_dates=[[\"date\", \"time\"]])\n",
      "/tmp/ipykernel_2666/4211641774.py:25: FutureWarning: Support for nested sequences for 'parse_dates' in pd.read_csv is deprecated. Combine the desired columns with pd.to_datetime after parsing instead.\n",
      "  df = pd.read_csv(fp, parse_dates=[[\"date\", \"time\"]])\n",
      "/tmp/ipykernel_2666/4211641774.py:25: FutureWarning: Support for nested sequences for 'parse_dates' in pd.read_csv is deprecated. Combine the desired columns with pd.to_datetime after parsing instead.\n",
      "  df = pd.read_csv(fp, parse_dates=[[\"date\", \"time\"]])\n",
      "/tmp/ipykernel_2666/4211641774.py:25: FutureWarning: Support for nested sequences for 'parse_dates' in pd.read_csv is deprecated. Combine the desired columns with pd.to_datetime after parsing instead.\n",
      "  df = pd.read_csv(fp, parse_dates=[[\"date\", \"time\"]])\n"
     ]
    },
    {
     "name": "stdout",
     "output_type": "stream",
     "text": [
      "· Parsing /workspaces/airoute_mlops/airoute_mlops/data/bronze/defra/CHBO_2025.csv\n",
      "· Parsing /workspaces/airoute_mlops/airoute_mlops/data/bronze/defra/LH_2025.csv\n",
      "· Parsing /workspaces/airoute_mlops/airoute_mlops/data/bronze/defra/WAKA_2025.csv\n",
      "· Parsing /workspaces/airoute_mlops/airoute_mlops/data/bronze/defra/NOTB_2025.csv\n",
      "· Parsing /workspaces/airoute_mlops/airoute_mlops/data/bronze/defra/BIHG_2025.csv\n",
      "· Parsing /workspaces/airoute_mlops/airoute_mlops/data/bronze/defra/BPLE_2025.csv\n",
      "· Parsing /workspaces/airoute_mlops/airoute_mlops/data/bronze/defra/NO12_2025.csv\n",
      "· Parsing /workspaces/airoute_mlops/airoute_mlops/data/bronze/defra/WOEA_2025.csv\n",
      "· Parsing /workspaces/airoute_mlops/airoute_mlops/data/bronze/defra/CANK_2025.csv\n",
      "· Parsing /workspaces/airoute_mlops/airoute_mlops/data/bronze/defra/CHGR_2025.csv\n",
      "· Parsing /workspaces/airoute_mlops/airoute_mlops/data/bronze/defra/ACTH_2025.csv\n"
     ]
    },
    {
     "name": "stderr",
     "output_type": "stream",
     "text": [
      "/tmp/ipykernel_2666/4211641774.py:25: FutureWarning: Support for nested sequences for 'parse_dates' in pd.read_csv is deprecated. Combine the desired columns with pd.to_datetime after parsing instead.\n",
      "  df = pd.read_csv(fp, parse_dates=[[\"date\", \"time\"]])\n",
      "/tmp/ipykernel_2666/4211641774.py:25: FutureWarning: Support for nested sequences for 'parse_dates' in pd.read_csv is deprecated. Combine the desired columns with pd.to_datetime after parsing instead.\n",
      "  df = pd.read_csv(fp, parse_dates=[[\"date\", \"time\"]])\n",
      "/tmp/ipykernel_2666/4211641774.py:25: FutureWarning: Support for nested sequences for 'parse_dates' in pd.read_csv is deprecated. Combine the desired columns with pd.to_datetime after parsing instead.\n",
      "  df = pd.read_csv(fp, parse_dates=[[\"date\", \"time\"]])\n",
      "/tmp/ipykernel_2666/4211641774.py:25: FutureWarning: Support for nested sequences for 'parse_dates' in pd.read_csv is deprecated. Combine the desired columns with pd.to_datetime after parsing instead.\n",
      "  df = pd.read_csv(fp, parse_dates=[[\"date\", \"time\"]])\n",
      "/tmp/ipykernel_2666/4211641774.py:25: FutureWarning: Support for nested sequences for 'parse_dates' in pd.read_csv is deprecated. Combine the desired columns with pd.to_datetime after parsing instead.\n",
      "  df = pd.read_csv(fp, parse_dates=[[\"date\", \"time\"]])\n",
      "/tmp/ipykernel_2666/4211641774.py:25: FutureWarning: Support for nested sequences for 'parse_dates' in pd.read_csv is deprecated. Combine the desired columns with pd.to_datetime after parsing instead.\n",
      "  df = pd.read_csv(fp, parse_dates=[[\"date\", \"time\"]])\n",
      "/tmp/ipykernel_2666/4211641774.py:25: FutureWarning: Support for nested sequences for 'parse_dates' in pd.read_csv is deprecated. Combine the desired columns with pd.to_datetime after parsing instead.\n",
      "  df = pd.read_csv(fp, parse_dates=[[\"date\", \"time\"]])\n",
      "/tmp/ipykernel_2666/4211641774.py:25: FutureWarning: Support for nested sequences for 'parse_dates' in pd.read_csv is deprecated. Combine the desired columns with pd.to_datetime after parsing instead.\n",
      "  df = pd.read_csv(fp, parse_dates=[[\"date\", \"time\"]])\n",
      "/tmp/ipykernel_2666/4211641774.py:25: FutureWarning: Support for nested sequences for 'parse_dates' in pd.read_csv is deprecated. Combine the desired columns with pd.to_datetime after parsing instead.\n",
      "  df = pd.read_csv(fp, parse_dates=[[\"date\", \"time\"]])\n",
      "/tmp/ipykernel_2666/4211641774.py:25: FutureWarning: Support for nested sequences for 'parse_dates' in pd.read_csv is deprecated. Combine the desired columns with pd.to_datetime after parsing instead.\n",
      "  df = pd.read_csv(fp, parse_dates=[[\"date\", \"time\"]])\n",
      "/tmp/ipykernel_2666/4211641774.py:25: FutureWarning: Support for nested sequences for 'parse_dates' in pd.read_csv is deprecated. Combine the desired columns with pd.to_datetime after parsing instead.\n",
      "  df = pd.read_csv(fp, parse_dates=[[\"date\", \"time\"]])\n"
     ]
    },
    {
     "name": "stdout",
     "output_type": "stream",
     "text": [
      "· Parsing /workspaces/airoute_mlops/airoute_mlops/data/bronze/defra/PEEB_2025.csv\n",
      "· Parsing /workspaces/airoute_mlops/airoute_mlops/data/bronze/defra/HIL_2025.csv\n",
      "· Parsing /workspaces/airoute_mlops/airoute_mlops/data/bronze/defra/REA1_2025.csv\n",
      "· Parsing /workspaces/airoute_mlops/airoute_mlops/data/bronze/defra/ARM6_2025.csv\n",
      "· Parsing /workspaces/airoute_mlops/airoute_mlops/data/bronze/defra/GLKP_2025.csv\n",
      "· Parsing /workspaces/airoute_mlops/airoute_mlops/data/bronze/defra/WREX_2025.csv\n",
      "· Parsing /workspaces/airoute_mlops/airoute_mlops/data/bronze/defra/BOTR_2025.csv\n",
      "· Parsing /workspaces/airoute_mlops/airoute_mlops/data/bronze/defra/ABD8_2025.csv\n",
      "· Parsing /workspaces/airoute_mlops/airoute_mlops/data/bronze/defra/DUMF_2025.csv\n",
      "· Parsing /workspaces/airoute_mlops/airoute_mlops/data/bronze/defra/CHAT_2025.csv\n",
      "· Parsing /workspaces/airoute_mlops/airoute_mlops/data/bronze/defra/NCA3_2025.csv\n"
     ]
    },
    {
     "name": "stderr",
     "output_type": "stream",
     "text": [
      "/tmp/ipykernel_2666/4211641774.py:25: FutureWarning: Support for nested sequences for 'parse_dates' in pd.read_csv is deprecated. Combine the desired columns with pd.to_datetime after parsing instead.\n",
      "  df = pd.read_csv(fp, parse_dates=[[\"date\", \"time\"]])\n",
      "/tmp/ipykernel_2666/4211641774.py:25: FutureWarning: Support for nested sequences for 'parse_dates' in pd.read_csv is deprecated. Combine the desired columns with pd.to_datetime after parsing instead.\n",
      "  df = pd.read_csv(fp, parse_dates=[[\"date\", \"time\"]])\n",
      "/tmp/ipykernel_2666/4211641774.py:25: FutureWarning: Support for nested sequences for 'parse_dates' in pd.read_csv is deprecated. Combine the desired columns with pd.to_datetime after parsing instead.\n",
      "  df = pd.read_csv(fp, parse_dates=[[\"date\", \"time\"]])\n",
      "/tmp/ipykernel_2666/4211641774.py:25: FutureWarning: Support for nested sequences for 'parse_dates' in pd.read_csv is deprecated. Combine the desired columns with pd.to_datetime after parsing instead.\n",
      "  df = pd.read_csv(fp, parse_dates=[[\"date\", \"time\"]])\n",
      "/tmp/ipykernel_2666/4211641774.py:25: FutureWarning: Support for nested sequences for 'parse_dates' in pd.read_csv is deprecated. Combine the desired columns with pd.to_datetime after parsing instead.\n",
      "  df = pd.read_csv(fp, parse_dates=[[\"date\", \"time\"]])\n",
      "/tmp/ipykernel_2666/4211641774.py:25: FutureWarning: Support for nested sequences for 'parse_dates' in pd.read_csv is deprecated. Combine the desired columns with pd.to_datetime after parsing instead.\n",
      "  df = pd.read_csv(fp, parse_dates=[[\"date\", \"time\"]])\n",
      "/tmp/ipykernel_2666/4211641774.py:25: FutureWarning: Support for nested sequences for 'parse_dates' in pd.read_csv is deprecated. Combine the desired columns with pd.to_datetime after parsing instead.\n",
      "  df = pd.read_csv(fp, parse_dates=[[\"date\", \"time\"]])\n",
      "/tmp/ipykernel_2666/4211641774.py:25: FutureWarning: Support for nested sequences for 'parse_dates' in pd.read_csv is deprecated. Combine the desired columns with pd.to_datetime after parsing instead.\n",
      "  df = pd.read_csv(fp, parse_dates=[[\"date\", \"time\"]])\n",
      "/tmp/ipykernel_2666/4211641774.py:25: FutureWarning: Support for nested sequences for 'parse_dates' in pd.read_csv is deprecated. Combine the desired columns with pd.to_datetime after parsing instead.\n",
      "  df = pd.read_csv(fp, parse_dates=[[\"date\", \"time\"]])\n",
      "/tmp/ipykernel_2666/4211641774.py:25: FutureWarning: Support for nested sequences for 'parse_dates' in pd.read_csv is deprecated. Combine the desired columns with pd.to_datetime after parsing instead.\n",
      "  df = pd.read_csv(fp, parse_dates=[[\"date\", \"time\"]])\n",
      "/tmp/ipykernel_2666/4211641774.py:25: FutureWarning: Support for nested sequences for 'parse_dates' in pd.read_csv is deprecated. Combine the desired columns with pd.to_datetime after parsing instead.\n",
      "  df = pd.read_csv(fp, parse_dates=[[\"date\", \"time\"]])\n"
     ]
    },
    {
     "name": "stdout",
     "output_type": "stream",
     "text": [
      "· Parsing /workspaces/airoute_mlops/airoute_mlops/data/bronze/defra/BALM_2025.csv\n",
      "· Parsing /workspaces/airoute_mlops/airoute_mlops/data/bronze/defra/MID_2025.csv\n",
      "· Parsing /workspaces/airoute_mlops/airoute_mlops/data/bronze/defra/CLL2_2025.csv\n",
      "· Parsing /workspaces/airoute_mlops/airoute_mlops/data/bronze/defra/SHUN_2025.csv\n",
      "· Parsing /workspaces/airoute_mlops/airoute_mlops/data/bronze/defra/PEMB_2025.csv\n",
      "· Parsing /workspaces/airoute_mlops/airoute_mlops/data/bronze/defra/BUSH_2025.csv\n",
      "· Parsing /workspaces/airoute_mlops/airoute_mlops/data/bronze/defra/PRES_2025.csv\n",
      "· Parsing /workspaces/airoute_mlops/airoute_mlops/data/bronze/defra/SUNR_2025.csv\n",
      "· Parsing /workspaces/airoute_mlops/airoute_mlops/data/bronze/defra/LED6_2025.csv\n",
      "· Parsing /workspaces/airoute_mlops/airoute_mlops/data/bronze/defra/LN_2025.csv\n",
      "· Parsing /workspaces/airoute_mlops/airoute_mlops/data/bronze/defra/SOTR_2025.csv\n"
     ]
    },
    {
     "name": "stderr",
     "output_type": "stream",
     "text": [
      "/tmp/ipykernel_2666/4211641774.py:25: FutureWarning: Support for nested sequences for 'parse_dates' in pd.read_csv is deprecated. Combine the desired columns with pd.to_datetime after parsing instead.\n",
      "  df = pd.read_csv(fp, parse_dates=[[\"date\", \"time\"]])\n",
      "/tmp/ipykernel_2666/4211641774.py:25: FutureWarning: Support for nested sequences for 'parse_dates' in pd.read_csv is deprecated. Combine the desired columns with pd.to_datetime after parsing instead.\n",
      "  df = pd.read_csv(fp, parse_dates=[[\"date\", \"time\"]])\n",
      "/tmp/ipykernel_2666/4211641774.py:25: FutureWarning: Support for nested sequences for 'parse_dates' in pd.read_csv is deprecated. Combine the desired columns with pd.to_datetime after parsing instead.\n",
      "  df = pd.read_csv(fp, parse_dates=[[\"date\", \"time\"]])\n",
      "/tmp/ipykernel_2666/4211641774.py:25: FutureWarning: Support for nested sequences for 'parse_dates' in pd.read_csv is deprecated. Combine the desired columns with pd.to_datetime after parsing instead.\n",
      "  df = pd.read_csv(fp, parse_dates=[[\"date\", \"time\"]])\n",
      "/tmp/ipykernel_2666/4211641774.py:25: FutureWarning: Support for nested sequences for 'parse_dates' in pd.read_csv is deprecated. Combine the desired columns with pd.to_datetime after parsing instead.\n",
      "  df = pd.read_csv(fp, parse_dates=[[\"date\", \"time\"]])\n",
      "/tmp/ipykernel_2666/4211641774.py:25: FutureWarning: Support for nested sequences for 'parse_dates' in pd.read_csv is deprecated. Combine the desired columns with pd.to_datetime after parsing instead.\n",
      "  df = pd.read_csv(fp, parse_dates=[[\"date\", \"time\"]])\n",
      "/tmp/ipykernel_2666/4211641774.py:25: FutureWarning: Support for nested sequences for 'parse_dates' in pd.read_csv is deprecated. Combine the desired columns with pd.to_datetime after parsing instead.\n",
      "  df = pd.read_csv(fp, parse_dates=[[\"date\", \"time\"]])\n",
      "/tmp/ipykernel_2666/4211641774.py:25: FutureWarning: Support for nested sequences for 'parse_dates' in pd.read_csv is deprecated. Combine the desired columns with pd.to_datetime after parsing instead.\n",
      "  df = pd.read_csv(fp, parse_dates=[[\"date\", \"time\"]])\n",
      "/tmp/ipykernel_2666/4211641774.py:25: FutureWarning: Support for nested sequences for 'parse_dates' in pd.read_csv is deprecated. Combine the desired columns with pd.to_datetime after parsing instead.\n",
      "  df = pd.read_csv(fp, parse_dates=[[\"date\", \"time\"]])\n",
      "/tmp/ipykernel_2666/4211641774.py:25: FutureWarning: Support for nested sequences for 'parse_dates' in pd.read_csv is deprecated. Combine the desired columns with pd.to_datetime after parsing instead.\n",
      "  df = pd.read_csv(fp, parse_dates=[[\"date\", \"time\"]])\n",
      "/tmp/ipykernel_2666/4211641774.py:25: FutureWarning: Support for nested sequences for 'parse_dates' in pd.read_csv is deprecated. Combine the desired columns with pd.to_datetime after parsing instead.\n",
      "  df = pd.read_csv(fp, parse_dates=[[\"date\", \"time\"]])\n"
     ]
    },
    {
     "name": "stdout",
     "output_type": "stream",
     "text": [
      "· Parsing /workspaces/airoute_mlops/airoute_mlops/data/bronze/defra/SASH_2025.csv\n",
      "· Parsing /workspaces/airoute_mlops/airoute_mlops/data/bronze/defra/TH2_2025.csv\n",
      "· Parsing /workspaces/airoute_mlops/airoute_mlops/data/bronze/defra/HP1_2025.csv\n",
      "· Parsing /workspaces/airoute_mlops/airoute_mlops/data/bronze/defra/LERW_2025.csv\n",
      "· Parsing /workspaces/airoute_mlops/airoute_mlops/data/bronze/defra/LEIR_2025.csv\n",
      "· Parsing /workspaces/airoute_mlops/airoute_mlops/data/bronze/defra/HORS_2025.csv\n",
      "· Parsing /workspaces/airoute_mlops/airoute_mlops/data/bronze/defra/REA5_2025.csv\n",
      "· Parsing /workspaces/airoute_mlops/airoute_mlops/data/bronze/defra/BDMA_2025.csv\n",
      "· Parsing /workspaces/airoute_mlops/airoute_mlops/data/bronze/defra/FARC_2025.csv\n",
      "· Parsing /workspaces/airoute_mlops/airoute_mlops/data/bronze/defra/HONI_2025.csv\n",
      "· Parsing /workspaces/airoute_mlops/airoute_mlops/data/bronze/defra/MH_2025.csv\n"
     ]
    },
    {
     "name": "stderr",
     "output_type": "stream",
     "text": [
      "/tmp/ipykernel_2666/4211641774.py:25: FutureWarning: Support for nested sequences for 'parse_dates' in pd.read_csv is deprecated. Combine the desired columns with pd.to_datetime after parsing instead.\n",
      "  df = pd.read_csv(fp, parse_dates=[[\"date\", \"time\"]])\n",
      "/tmp/ipykernel_2666/4211641774.py:25: FutureWarning: Support for nested sequences for 'parse_dates' in pd.read_csv is deprecated. Combine the desired columns with pd.to_datetime after parsing instead.\n",
      "  df = pd.read_csv(fp, parse_dates=[[\"date\", \"time\"]])\n",
      "/tmp/ipykernel_2666/4211641774.py:25: FutureWarning: Support for nested sequences for 'parse_dates' in pd.read_csv is deprecated. Combine the desired columns with pd.to_datetime after parsing instead.\n",
      "  df = pd.read_csv(fp, parse_dates=[[\"date\", \"time\"]])\n",
      "/tmp/ipykernel_2666/4211641774.py:25: FutureWarning: Support for nested sequences for 'parse_dates' in pd.read_csv is deprecated. Combine the desired columns with pd.to_datetime after parsing instead.\n",
      "  df = pd.read_csv(fp, parse_dates=[[\"date\", \"time\"]])\n",
      "/tmp/ipykernel_2666/4211641774.py:25: FutureWarning: Support for nested sequences for 'parse_dates' in pd.read_csv is deprecated. Combine the desired columns with pd.to_datetime after parsing instead.\n",
      "  df = pd.read_csv(fp, parse_dates=[[\"date\", \"time\"]])\n",
      "/tmp/ipykernel_2666/4211641774.py:25: FutureWarning: Support for nested sequences for 'parse_dates' in pd.read_csv is deprecated. Combine the desired columns with pd.to_datetime after parsing instead.\n",
      "  df = pd.read_csv(fp, parse_dates=[[\"date\", \"time\"]])\n",
      "/tmp/ipykernel_2666/4211641774.py:25: FutureWarning: Support for nested sequences for 'parse_dates' in pd.read_csv is deprecated. Combine the desired columns with pd.to_datetime after parsing instead.\n",
      "  df = pd.read_csv(fp, parse_dates=[[\"date\", \"time\"]])\n",
      "/tmp/ipykernel_2666/4211641774.py:25: FutureWarning: Support for nested sequences for 'parse_dates' in pd.read_csv is deprecated. Combine the desired columns with pd.to_datetime after parsing instead.\n",
      "  df = pd.read_csv(fp, parse_dates=[[\"date\", \"time\"]])\n",
      "/tmp/ipykernel_2666/4211641774.py:25: FutureWarning: Support for nested sequences for 'parse_dates' in pd.read_csv is deprecated. Combine the desired columns with pd.to_datetime after parsing instead.\n",
      "  df = pd.read_csv(fp, parse_dates=[[\"date\", \"time\"]])\n",
      "/tmp/ipykernel_2666/4211641774.py:25: FutureWarning: Support for nested sequences for 'parse_dates' in pd.read_csv is deprecated. Combine the desired columns with pd.to_datetime after parsing instead.\n",
      "  df = pd.read_csv(fp, parse_dates=[[\"date\", \"time\"]])\n",
      "/tmp/ipykernel_2666/4211641774.py:25: FutureWarning: Support for nested sequences for 'parse_dates' in pd.read_csv is deprecated. Combine the desired columns with pd.to_datetime after parsing instead.\n",
      "  df = pd.read_csv(fp, parse_dates=[[\"date\", \"time\"]])\n"
     ]
    },
    {
     "name": "stdout",
     "output_type": "stream",
     "text": [
      "· Parsing /workspaces/airoute_mlops/airoute_mlops/data/bronze/defra/DCC1_2025.csv\n",
      "· Parsing /workspaces/airoute_mlops/airoute_mlops/data/bronze/defra/EB_2025.csv\n",
      "· Parsing /workspaces/airoute_mlops/airoute_mlops/data/bronze/defra/GLOT_2025.csv\n",
      "· Parsing /workspaces/airoute_mlops/airoute_mlops/data/bronze/defra/TED2_2025.csv\n",
      "· Parsing /workspaces/airoute_mlops/airoute_mlops/data/bronze/defra/ROED_2025.csv\n",
      "· Parsing /workspaces/airoute_mlops/airoute_mlops/data/bronze/defra/BOLD_2025.csv\n",
      "· Parsing /workspaces/airoute_mlops/airoute_mlops/data/bronze/defra/WAR_2025.csv\n",
      "· Parsing /workspaces/airoute_mlops/airoute_mlops/data/bronze/defra/BLAP_2025.csv\n",
      "· Parsing /workspaces/airoute_mlops/airoute_mlops/data/bronze/defra/INV2_2025.csv\n",
      "· Parsing /workspaces/airoute_mlops/airoute_mlops/data/bronze/defra/LB_2025.csv\n",
      "· Parsing /workspaces/airoute_mlops/airoute_mlops/data/bronze/defra/WSMR_2025.csv\n"
     ]
    },
    {
     "name": "stderr",
     "output_type": "stream",
     "text": [
      "/tmp/ipykernel_2666/4211641774.py:25: FutureWarning: Support for nested sequences for 'parse_dates' in pd.read_csv is deprecated. Combine the desired columns with pd.to_datetime after parsing instead.\n",
      "  df = pd.read_csv(fp, parse_dates=[[\"date\", \"time\"]])\n",
      "/tmp/ipykernel_2666/4211641774.py:25: FutureWarning: Support for nested sequences for 'parse_dates' in pd.read_csv is deprecated. Combine the desired columns with pd.to_datetime after parsing instead.\n",
      "  df = pd.read_csv(fp, parse_dates=[[\"date\", \"time\"]])\n",
      "/tmp/ipykernel_2666/4211641774.py:25: FutureWarning: Support for nested sequences for 'parse_dates' in pd.read_csv is deprecated. Combine the desired columns with pd.to_datetime after parsing instead.\n",
      "  df = pd.read_csv(fp, parse_dates=[[\"date\", \"time\"]])\n",
      "/tmp/ipykernel_2666/4211641774.py:25: FutureWarning: Support for nested sequences for 'parse_dates' in pd.read_csv is deprecated. Combine the desired columns with pd.to_datetime after parsing instead.\n",
      "  df = pd.read_csv(fp, parse_dates=[[\"date\", \"time\"]])\n",
      "/tmp/ipykernel_2666/4211641774.py:25: FutureWarning: Support for nested sequences for 'parse_dates' in pd.read_csv is deprecated. Combine the desired columns with pd.to_datetime after parsing instead.\n",
      "  df = pd.read_csv(fp, parse_dates=[[\"date\", \"time\"]])\n",
      "/tmp/ipykernel_2666/4211641774.py:25: FutureWarning: Support for nested sequences for 'parse_dates' in pd.read_csv is deprecated. Combine the desired columns with pd.to_datetime after parsing instead.\n",
      "  df = pd.read_csv(fp, parse_dates=[[\"date\", \"time\"]])\n",
      "/tmp/ipykernel_2666/4211641774.py:25: FutureWarning: Support for nested sequences for 'parse_dates' in pd.read_csv is deprecated. Combine the desired columns with pd.to_datetime after parsing instead.\n",
      "  df = pd.read_csv(fp, parse_dates=[[\"date\", \"time\"]])\n",
      "/tmp/ipykernel_2666/4211641774.py:25: FutureWarning: Support for nested sequences for 'parse_dates' in pd.read_csv is deprecated. Combine the desired columns with pd.to_datetime after parsing instead.\n",
      "  df = pd.read_csv(fp, parse_dates=[[\"date\", \"time\"]])\n",
      "/tmp/ipykernel_2666/4211641774.py:25: FutureWarning: Support for nested sequences for 'parse_dates' in pd.read_csv is deprecated. Combine the desired columns with pd.to_datetime after parsing instead.\n",
      "  df = pd.read_csv(fp, parse_dates=[[\"date\", \"time\"]])\n",
      "/tmp/ipykernel_2666/4211641774.py:25: FutureWarning: Support for nested sequences for 'parse_dates' in pd.read_csv is deprecated. Combine the desired columns with pd.to_datetime after parsing instead.\n",
      "  df = pd.read_csv(fp, parse_dates=[[\"date\", \"time\"]])\n",
      "/tmp/ipykernel_2666/4211641774.py:25: FutureWarning: Support for nested sequences for 'parse_dates' in pd.read_csv is deprecated. Combine the desired columns with pd.to_datetime after parsing instead.\n",
      "  df = pd.read_csv(fp, parse_dates=[[\"date\", \"time\"]])\n"
     ]
    },
    {
     "name": "stdout",
     "output_type": "stream",
     "text": [
      "· Parsing /workspaces/airoute_mlops/airoute_mlops/data/bronze/defra/LIN3_2025.csv\n",
      "· Parsing /workspaces/airoute_mlops/airoute_mlops/data/bronze/defra/SOUS_2025.csv\n",
      "· Parsing /workspaces/airoute_mlops/airoute_mlops/data/bronze/defra/BURW_2025.csv\n",
      "· Parsing /workspaces/airoute_mlops/airoute_mlops/data/bronze/defra/BAR3_2025.csv\n",
      "· Parsing /workspaces/airoute_mlops/airoute_mlops/data/bronze/defra/BHA4_2025.csv\n",
      "· Parsing /workspaces/airoute_mlops/airoute_mlops/data/bronze/defra/RRKL_2025.csv\n",
      "· Parsing /workspaces/airoute_mlops/airoute_mlops/data/bronze/defra/BEL1_2025.csv\n",
      "· Parsing /workspaces/airoute_mlops/airoute_mlops/data/bronze/defra/SHE_2025.csv\n",
      "· Parsing /workspaces/airoute_mlops/airoute_mlops/data/bronze/defra/WBKP_2025.csv\n",
      "· Parsing /workspaces/airoute_mlops/airoute_mlops/data/bronze/defra/YK11_2025.csv\n"
     ]
    },
    {
     "name": "stderr",
     "output_type": "stream",
     "text": [
      "/tmp/ipykernel_2666/4211641774.py:25: FutureWarning: Support for nested sequences for 'parse_dates' in pd.read_csv is deprecated. Combine the desired columns with pd.to_datetime after parsing instead.\n",
      "  df = pd.read_csv(fp, parse_dates=[[\"date\", \"time\"]])\n",
      "/tmp/ipykernel_2666/4211641774.py:25: FutureWarning: Support for nested sequences for 'parse_dates' in pd.read_csv is deprecated. Combine the desired columns with pd.to_datetime after parsing instead.\n",
      "  df = pd.read_csv(fp, parse_dates=[[\"date\", \"time\"]])\n",
      "/tmp/ipykernel_2666/4211641774.py:25: FutureWarning: Support for nested sequences for 'parse_dates' in pd.read_csv is deprecated. Combine the desired columns with pd.to_datetime after parsing instead.\n",
      "  df = pd.read_csv(fp, parse_dates=[[\"date\", \"time\"]])\n",
      "/tmp/ipykernel_2666/4211641774.py:25: FutureWarning: Support for nested sequences for 'parse_dates' in pd.read_csv is deprecated. Combine the desired columns with pd.to_datetime after parsing instead.\n",
      "  df = pd.read_csv(fp, parse_dates=[[\"date\", \"time\"]])\n",
      "/tmp/ipykernel_2666/4211641774.py:25: FutureWarning: Support for nested sequences for 'parse_dates' in pd.read_csv is deprecated. Combine the desired columns with pd.to_datetime after parsing instead.\n",
      "  df = pd.read_csv(fp, parse_dates=[[\"date\", \"time\"]])\n",
      "/tmp/ipykernel_2666/4211641774.py:25: FutureWarning: Support for nested sequences for 'parse_dates' in pd.read_csv is deprecated. Combine the desired columns with pd.to_datetime after parsing instead.\n",
      "  df = pd.read_csv(fp, parse_dates=[[\"date\", \"time\"]])\n",
      "/tmp/ipykernel_2666/4211641774.py:25: FutureWarning: Support for nested sequences for 'parse_dates' in pd.read_csv is deprecated. Combine the desired columns with pd.to_datetime after parsing instead.\n",
      "  df = pd.read_csv(fp, parse_dates=[[\"date\", \"time\"]])\n",
      "/tmp/ipykernel_2666/4211641774.py:25: FutureWarning: Support for nested sequences for 'parse_dates' in pd.read_csv is deprecated. Combine the desired columns with pd.to_datetime after parsing instead.\n",
      "  df = pd.read_csv(fp, parse_dates=[[\"date\", \"time\"]])\n",
      "/tmp/ipykernel_2666/4211641774.py:25: FutureWarning: Support for nested sequences for 'parse_dates' in pd.read_csv is deprecated. Combine the desired columns with pd.to_datetime after parsing instead.\n",
      "  df = pd.read_csv(fp, parse_dates=[[\"date\", \"time\"]])\n",
      "/tmp/ipykernel_2666/4211641774.py:25: FutureWarning: Support for nested sequences for 'parse_dates' in pd.read_csv is deprecated. Combine the desired columns with pd.to_datetime after parsing instead.\n",
      "  df = pd.read_csv(fp, parse_dates=[[\"date\", \"time\"]])\n"
     ]
    },
    {
     "name": "stdout",
     "output_type": "stream",
     "text": [
      "· Parsing /workspaces/airoute_mlops/airoute_mlops/data/bronze/defra/LUTR_2025.csv\n",
      "· Parsing /workspaces/airoute_mlops/airoute_mlops/data/bronze/defra/SHBR_2025.csv\n",
      "· Parsing /workspaces/airoute_mlops/airoute_mlops/data/bronze/defra/BAAR_2025.csv\n",
      "· Parsing /workspaces/airoute_mlops/airoute_mlops/data/bronze/defra/OSY_2025.csv\n",
      "· Parsing /workspaces/airoute_mlops/airoute_mlops/data/bronze/defra/CWMC_2025.csv\n",
      "· Parsing /workspaces/airoute_mlops/airoute_mlops/data/bronze/defra/DESA_2025.csv\n",
      "· Parsing /workspaces/airoute_mlops/airoute_mlops/data/bronze/defra/WORT_2025.csv\n",
      "· Parsing /workspaces/airoute_mlops/airoute_mlops/data/bronze/defra/MAN3_2025.csv\n",
      "· Parsing /workspaces/airoute_mlops/airoute_mlops/data/bronze/defra/BRS8_2025.csv\n",
      "· Parsing /workspaces/airoute_mlops/airoute_mlops/data/bronze/defra/GLAZ_2025.csv\n",
      "· Parsing /workspaces/airoute_mlops/airoute_mlops/data/bronze/defra/LOFS_2025.csv\n"
     ]
    },
    {
     "name": "stderr",
     "output_type": "stream",
     "text": [
      "/tmp/ipykernel_2666/4211641774.py:25: FutureWarning: Support for nested sequences for 'parse_dates' in pd.read_csv is deprecated. Combine the desired columns with pd.to_datetime after parsing instead.\n",
      "  df = pd.read_csv(fp, parse_dates=[[\"date\", \"time\"]])\n",
      "/tmp/ipykernel_2666/4211641774.py:25: FutureWarning: Support for nested sequences for 'parse_dates' in pd.read_csv is deprecated. Combine the desired columns with pd.to_datetime after parsing instead.\n",
      "  df = pd.read_csv(fp, parse_dates=[[\"date\", \"time\"]])\n",
      "/tmp/ipykernel_2666/4211641774.py:25: FutureWarning: Support for nested sequences for 'parse_dates' in pd.read_csv is deprecated. Combine the desired columns with pd.to_datetime after parsing instead.\n",
      "  df = pd.read_csv(fp, parse_dates=[[\"date\", \"time\"]])\n",
      "/tmp/ipykernel_2666/4211641774.py:25: FutureWarning: Support for nested sequences for 'parse_dates' in pd.read_csv is deprecated. Combine the desired columns with pd.to_datetime after parsing instead.\n",
      "  df = pd.read_csv(fp, parse_dates=[[\"date\", \"time\"]])\n",
      "/tmp/ipykernel_2666/4211641774.py:25: FutureWarning: Support for nested sequences for 'parse_dates' in pd.read_csv is deprecated. Combine the desired columns with pd.to_datetime after parsing instead.\n",
      "  df = pd.read_csv(fp, parse_dates=[[\"date\", \"time\"]])\n",
      "/tmp/ipykernel_2666/4211641774.py:25: FutureWarning: Support for nested sequences for 'parse_dates' in pd.read_csv is deprecated. Combine the desired columns with pd.to_datetime after parsing instead.\n",
      "  df = pd.read_csv(fp, parse_dates=[[\"date\", \"time\"]])\n",
      "/tmp/ipykernel_2666/4211641774.py:25: FutureWarning: Support for nested sequences for 'parse_dates' in pd.read_csv is deprecated. Combine the desired columns with pd.to_datetime after parsing instead.\n",
      "  df = pd.read_csv(fp, parse_dates=[[\"date\", \"time\"]])\n",
      "/tmp/ipykernel_2666/4211641774.py:25: FutureWarning: Support for nested sequences for 'parse_dates' in pd.read_csv is deprecated. Combine the desired columns with pd.to_datetime after parsing instead.\n",
      "  df = pd.read_csv(fp, parse_dates=[[\"date\", \"time\"]])\n",
      "/tmp/ipykernel_2666/4211641774.py:25: FutureWarning: Support for nested sequences for 'parse_dates' in pd.read_csv is deprecated. Combine the desired columns with pd.to_datetime after parsing instead.\n",
      "  df = pd.read_csv(fp, parse_dates=[[\"date\", \"time\"]])\n",
      "/tmp/ipykernel_2666/4211641774.py:25: FutureWarning: Support for nested sequences for 'parse_dates' in pd.read_csv is deprecated. Combine the desired columns with pd.to_datetime after parsing instead.\n",
      "  df = pd.read_csv(fp, parse_dates=[[\"date\", \"time\"]])\n",
      "/tmp/ipykernel_2666/4211641774.py:25: FutureWarning: Support for nested sequences for 'parse_dates' in pd.read_csv is deprecated. Combine the desired columns with pd.to_datetime after parsing instead.\n",
      "  df = pd.read_csv(fp, parse_dates=[[\"date\", \"time\"]])\n"
     ]
    },
    {
     "name": "stdout",
     "output_type": "stream",
     "text": [
      "· Parsing /workspaces/airoute_mlops/airoute_mlops/data/bronze/defra/SUN2_2025.csv\n",
      "· Parsing /workspaces/airoute_mlops/airoute_mlops/data/bronze/defra/SIB_2025.csv\n",
      "· Parsing /workspaces/airoute_mlops/airoute_mlops/data/bronze/defra/SHDG_2025.csv\n",
      "· Parsing /workspaces/airoute_mlops/airoute_mlops/data/bronze/defra/GHSR_2025.csv\n",
      "· Parsing /workspaces/airoute_mlops/airoute_mlops/data/bronze/defra/SV_2025.csv\n",
      "· Parsing /workspaces/airoute_mlops/airoute_mlops/data/bronze/defra/BRT3_2025.csv\n",
      "· Parsing /workspaces/airoute_mlops/airoute_mlops/data/bronze/defra/YW_2025.csv\n",
      "· Parsing /workspaces/airoute_mlops/airoute_mlops/data/bronze/defra/CA1_2025.csv\n",
      "· Parsing /workspaces/airoute_mlops/airoute_mlops/data/bronze/defra/STKR_2025.csv\n",
      "· Parsing /workspaces/airoute_mlops/airoute_mlops/data/bronze/defra/BR11_2025.csv\n",
      "· Parsing /workspaces/airoute_mlops/airoute_mlops/data/bronze/defra/EDNS_2025.csv\n"
     ]
    },
    {
     "name": "stderr",
     "output_type": "stream",
     "text": [
      "/tmp/ipykernel_2666/4211641774.py:25: FutureWarning: Support for nested sequences for 'parse_dates' in pd.read_csv is deprecated. Combine the desired columns with pd.to_datetime after parsing instead.\n",
      "  df = pd.read_csv(fp, parse_dates=[[\"date\", \"time\"]])\n",
      "/tmp/ipykernel_2666/4211641774.py:25: FutureWarning: Support for nested sequences for 'parse_dates' in pd.read_csv is deprecated. Combine the desired columns with pd.to_datetime after parsing instead.\n",
      "  df = pd.read_csv(fp, parse_dates=[[\"date\", \"time\"]])\n",
      "/tmp/ipykernel_2666/4211641774.py:25: FutureWarning: Support for nested sequences for 'parse_dates' in pd.read_csv is deprecated. Combine the desired columns with pd.to_datetime after parsing instead.\n",
      "  df = pd.read_csv(fp, parse_dates=[[\"date\", \"time\"]])\n",
      "/tmp/ipykernel_2666/4211641774.py:25: FutureWarning: Support for nested sequences for 'parse_dates' in pd.read_csv is deprecated. Combine the desired columns with pd.to_datetime after parsing instead.\n",
      "  df = pd.read_csv(fp, parse_dates=[[\"date\", \"time\"]])\n",
      "/tmp/ipykernel_2666/4211641774.py:25: FutureWarning: Support for nested sequences for 'parse_dates' in pd.read_csv is deprecated. Combine the desired columns with pd.to_datetime after parsing instead.\n",
      "  df = pd.read_csv(fp, parse_dates=[[\"date\", \"time\"]])\n",
      "/tmp/ipykernel_2666/4211641774.py:25: FutureWarning: Support for nested sequences for 'parse_dates' in pd.read_csv is deprecated. Combine the desired columns with pd.to_datetime after parsing instead.\n",
      "  df = pd.read_csv(fp, parse_dates=[[\"date\", \"time\"]])\n",
      "/tmp/ipykernel_2666/4211641774.py:25: FutureWarning: Support for nested sequences for 'parse_dates' in pd.read_csv is deprecated. Combine the desired columns with pd.to_datetime after parsing instead.\n",
      "  df = pd.read_csv(fp, parse_dates=[[\"date\", \"time\"]])\n",
      "/tmp/ipykernel_2666/4211641774.py:25: FutureWarning: Support for nested sequences for 'parse_dates' in pd.read_csv is deprecated. Combine the desired columns with pd.to_datetime after parsing instead.\n",
      "  df = pd.read_csv(fp, parse_dates=[[\"date\", \"time\"]])\n",
      "/tmp/ipykernel_2666/4211641774.py:25: FutureWarning: Support for nested sequences for 'parse_dates' in pd.read_csv is deprecated. Combine the desired columns with pd.to_datetime after parsing instead.\n",
      "  df = pd.read_csv(fp, parse_dates=[[\"date\", \"time\"]])\n",
      "/tmp/ipykernel_2666/4211641774.py:25: FutureWarning: Support for nested sequences for 'parse_dates' in pd.read_csv is deprecated. Combine the desired columns with pd.to_datetime after parsing instead.\n",
      "  df = pd.read_csv(fp, parse_dates=[[\"date\", \"time\"]])\n",
      "/tmp/ipykernel_2666/4211641774.py:25: FutureWarning: Support for nested sequences for 'parse_dates' in pd.read_csv is deprecated. Combine the desired columns with pd.to_datetime after parsing instead.\n",
      "  df = pd.read_csv(fp, parse_dates=[[\"date\", \"time\"]])\n"
     ]
    },
    {
     "name": "stdout",
     "output_type": "stream",
     "text": [
      "· Parsing /workspaces/airoute_mlops/airoute_mlops/data/bronze/defra/LVPT_2025.csv\n",
      "· Parsing /workspaces/airoute_mlops/airoute_mlops/data/bronze/defra/SEND_2025.csv\n",
      "· Parsing /workspaces/airoute_mlops/airoute_mlops/data/bronze/defra/LONM_2025.csv\n"
     ]
    },
    {
     "name": "stderr",
     "output_type": "stream",
     "text": [
      "/tmp/ipykernel_2666/4211641774.py:25: FutureWarning: Support for nested sequences for 'parse_dates' in pd.read_csv is deprecated. Combine the desired columns with pd.to_datetime after parsing instead.\n",
      "  df = pd.read_csv(fp, parse_dates=[[\"date\", \"time\"]])\n",
      "/tmp/ipykernel_2666/4211641774.py:25: FutureWarning: Support for nested sequences for 'parse_dates' in pd.read_csv is deprecated. Combine the desired columns with pd.to_datetime after parsing instead.\n",
      "  df = pd.read_csv(fp, parse_dates=[[\"date\", \"time\"]])\n",
      "/tmp/ipykernel_2666/4211641774.py:25: FutureWarning: Support for nested sequences for 'parse_dates' in pd.read_csv is deprecated. Combine the desired columns with pd.to_datetime after parsing instead.\n",
      "  df = pd.read_csv(fp, parse_dates=[[\"date\", \"time\"]])\n",
      "/tmp/ipykernel_2666/4211641774.py:60: FutureWarning: The behavior of DataFrame concatenation with empty or all-NA entries is deprecated. In a future version, this will no longer exclude empty or all-NA columns when determining the result dtypes. To retain the old behavior, exclude the relevant entries before the concat operation.\n",
      "  silver = pd.concat(frames, ignore_index=True)\n"
     ]
    },
    {
     "name": "stdout",
     "output_type": "stream",
     "text": [
      "\n",
      "✅ Saved 892,080 rows to /workspaces/airoute_mlops/airoute_mlops/data/silver/pollutant/pollutant_hourly_2025.parquet\n"
     ]
    }
   ],
   "source": [
    "# bronze_to_silver_pollutant.py  ──────────────────────────────────────\n",
    "import pandas as pd, pathlib, glob, re, html, sys\n",
    "BRONZE_DEF = pathlib.Path(\"/workspaces/airoute_mlops/airoute_mlops/data/bronze/defra\")\n",
    "OUTPUT_PATH = pathlib.Path(\"/workspaces/airoute_mlops/airoute_mlops/data/silver/pollutant\")\n",
    "\n",
    "# ───────── helpers ───────────────────────────────────────────────────\n",
    "def normalise(col: str) -> str:\n",
    "    \"\"\"lower-case, strip HTML <sub>, spaces.\"\"\"\n",
    "    return re.sub(r\"</?sub>\", \"\", html.unescape(col)).lower().strip()\n",
    "\n",
    "DESIRED = [\"site_id\", \"date_time\", \"pm25\", \"no2\", \"o3\"]\n",
    "REMAP   = {\n",
    "    \"ozone\":                                 \"o3\",\n",
    "    \"nitrogen dioxide\":                      \"no2\",\n",
    "    \"pm2.5 particulate matter (hourly measured)\": \"pm25\"\n",
    "}\n",
    "\n",
    "# ───────── iterate CSVs ──────────────────────────────────────────────\n",
    "frames = []\n",
    "for fp in glob.glob(str(BRONZE_DEF / \"*.csv\")):\n",
    "    site_id = pathlib.Path(fp).stem.split(\"_\")[0]\n",
    "    print(f\"· Parsing {fp}\")\n",
    "\n",
    "    # 1. read & normalise column names\n",
    "    df = pd.read_csv(fp, parse_dates=[[\"date\", \"time\"]])\n",
    "    df.columns = [normalise(c) for c in df.columns]\n",
    "\n",
    "    # 2. rename pollutant columns to canonical names\n",
    "    df = df.rename(columns=REMAP)\n",
    "\n",
    "    # 3. ensure 'site_id' present\n",
    "    df[\"site_id\"] = site_id\n",
    "\n",
    "    # 4. add any missing pollutant columns as NA\n",
    "    for col in [\"pm25\", \"no2\", \"o3\"]:\n",
    "        if col not in df.columns:\n",
    "            df[col] = pd.NA\n",
    "\n",
    "    # 5. keep exactly desired columns (others are dropped)\n",
    "    df = df[DESIRED]\n",
    "        # after df = df[DESIRED]\n",
    "    df[\"date_time\"] = pd.to_datetime(\n",
    "        df[\"date_time\"], format=\"%d-%m-%Y %H:%M\", errors=\"coerce\"\n",
    "    ).dt.tz_localize(\"UTC\")\n",
    "\n",
    "\n",
    "    # 6. drop rows where ALL three pollutants are NA\n",
    "    df = df.dropna(subset=[\"pm25\", \"no2\", \"o3\"], how=\"all\")\n",
    "\n",
    "    if df.empty:\n",
    "        print(f\"  ⚠  {site_id}: no pollutant values → skipped\")\n",
    "        continue\n",
    "\n",
    "    frames.append(df)\n",
    "\n",
    "# ───────── write parquet ────────────────────────────────────────────\n",
    "if not frames:\n",
    "    sys.exit(\"❌ No valid pollutant rows found in any CSV!\")\n",
    "\n",
    "silver = pd.concat(frames, ignore_index=True)\n",
    "# OUTPUT_PATH.mkdir(parents=True, exist_ok=True)\n",
    "# silver.to_parquet(OUTPUT_PATH, index=False)\n",
    "\n",
    "# print(f\"\\n✅ Saved {len(silver):,} rows to {OUTPUT_PATH}\")\n",
    "\n",
    "# --- keep your imports / code above unchanged -----------------------\n",
    "\n",
    "# after you build `silver`   (the DataFrame)\n",
    "OUTPUT_PATH.mkdir(parents=True, exist_ok=True)         # make the dir once\n",
    "\n",
    "outfile = OUTPUT_PATH / \"pollutant_hourly_2025.parquet\"   # ← the file\n",
    "\n",
    "silver.to_parquet(outfile, index=False)                # write here\n",
    "\n",
    "print(f\"\\n✅ Saved {len(silver):,} rows to {outfile}\")\n",
    "\n"
   ]
  },
  {
   "cell_type": "code",
   "execution_count": null,
   "id": "6de10457",
   "metadata": {},
   "outputs": [],
   "source": [
    "data = pd.read_parquet(outfile)  # read back to check\n",
    "data.info()  # print info about the DataFrame"
   ]
  },
  {
   "cell_type": "code",
   "execution_count": null,
   "id": "82587373",
   "metadata": {},
   "outputs": [],
   "source": []
  }
 ],
 "metadata": {
  "kernelspec": {
   "display_name": "airoute_venv",
   "language": "python",
   "name": "python3"
  },
  "language_info": {
   "codemirror_mode": {
    "name": "ipython",
    "version": 3
   },
   "file_extension": ".py",
   "mimetype": "text/x-python",
   "name": "python",
   "nbconvert_exporter": "python",
   "pygments_lexer": "ipython3",
   "version": "3.12.1"
  }
 },
 "nbformat": 4,
 "nbformat_minor": 5
}
